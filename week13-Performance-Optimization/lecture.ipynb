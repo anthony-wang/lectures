{
 "cells": [
  {
   "cell_type": "markdown",
   "metadata": {},
   "source": [
    "# Performance Optimization"
   ]
  },
  {
   "cell_type": "markdown",
   "metadata": {},
   "source": [
    "## Multithreading & Multiprocessing\n",
    "Both multithreading and multiprocessing aim to run multiple pieces of code at the same time to make the whole program execute quicker, to keep a program responsive during long computations or to distribute computations.\n",
    "\n",
    "![](multithreading-vs-multiprocessing.jpg)\n",
    "\n",
    "Python is a hard language to make multithreaded, mostly because of the **global interpreter lock** (GIL): Python is an interpreted language, and if the interpreter runs in only one thread, all the nice threads you're producing also run in only one thread.  \n",
    "While multi*processing* finds a way around that, even multithreading can still be of use. While multithreading can, in Python, not be **parallel**, it can still be **concurrent**. \n",
    "* *parallel* processes run truly at the same time - meaning that they must run sumultaneously on different CPU-cores\n",
    "* *concurrent* processes appear to be parallel to most of the system, even though the CPU may handle them one after another (either parallel or interlocked)\n",
    "\n",
    "While CPU-intense processes are only truly sped up when they are parallel (something where Python's multithreading doesn't help), tasks that have a bottleneck in network or disk access are helped greatly from cuncurrent execution already."
   ]
  },
  {
   "cell_type": "code",
   "execution_count": 25,
   "metadata": {},
   "outputs": [
    {
     "name": "stdout",
     "output_type": "stream",
     "text": [
      "3\n",
      "2\n"
     ]
    }
   ],
   "source": [
    "import sys\n",
    "\n",
    "a = []\n",
    "b = a\n",
    "print(sys.getrefcount(a))\n",
    "\n",
    "b = None\n",
    "print(sys.getrefcount(a))"
   ]
  },
  {
   "cell_type": "markdown",
   "metadata": {},
   "source": [
    "Without the GIL Python couldn't be sure about the reference count of variables, leading to memory leaks or too early memory clean up."
   ]
  },
  {
   "cell_type": "markdown",
   "metadata": {},
   "source": [
    "## Multithreading\n",
    "\n",
    "For the computer a process contains lots of information:\n",
    "* State of the process (ready, running, inactive)\n",
    "* Program-counter (next commands)\n",
    "* CPU registers (cashed)\n",
    "* Scheduling information (priority, position)\n",
    "* Storage information\n",
    "* I/O-Status\n",
    "* ...\n",
    "\n",
    "When switching processes, everything needs to be saved such that the CPU can load another process and freeze this one. This produces a lot of overhead. "
   ]
  },
  {
   "cell_type": "markdown",
   "metadata": {},
   "source": [
    "**Threads** are lightweight processes, using *shared resources*:\n",
    "* Shared storage space\n",
    "* Shared program code\n",
    "* Shared (virtual) files.\n",
    "\n",
    "Modern operating systems use threads to let programs switch control, without all the overhead of having to save and load all the information.   \n",
    "\n",
    "| Advantages | Disadvantages |\n",
    "|---|---|\n",
    "| Much faster creation and task switching  | Operating system doesn't schedule them, harder to synchronize than processes  |\n",
    "| Efficient communication between threads (unlike processes)  | Processes are better isolated  |\n",
    "| Operating system doesn't schedule them, processes can implement their own scheduling  | Crashing Thread = Crashing Program  |\n",
    "|   | **Python can't use them for parallel processing** |"
   ]
  },
  {
   "cell_type": "code",
   "execution_count": 2,
   "metadata": {},
   "outputs": [],
   "source": [
    "import numpy as np\n",
    "import time"
   ]
  },
  {
   "cell_type": "markdown",
   "metadata": {},
   "source": [
    "The `threading` module can be used to work with threads in Python, even though most of the time this will not make anything faster.\\\n",
    "To create a thread, we have to call the constructor of the `threading.Thread` class. We can also use this class as a superclass if we want to create an own thread object in which we implement the functionality.\\\n",
    "To the `Thread` constructor, we pass a target function which will be executed in the separate thread. The args parameter will be forwarded to our target function when it is executed. Additionally, we can specify a name for the thread and set it as a daemon thread.\\\n",
    "Daemon threads are threads which can't keep the process running after all other non-daemon threads have finished. So if a process has only daemon threads left, it will end. By default, Python Thread objects inherit their daemonic property from the current thread so if we invoke a thread on the main thread, the new one will not be a daemon, since the main thread is not a daemon."
   ]
  },
  {
   "cell_type": "code",
   "execution_count": 3,
   "metadata": {},
   "outputs": [
    {
     "data": {
      "text/plain": [
       "<Thread(Steve-the-friendly-Thread, initial daemon)>"
      ]
     },
     "execution_count": 3,
     "metadata": {},
     "output_type": "execute_result"
    }
   ],
   "source": [
    "import threading\n",
    "\n",
    "def hello(name):\n",
    "    for _ in range(20):\n",
    "        print(f'Oh hi {name}!')\n",
    "        time.sleep(1)\n",
    "\n",
    "thread = threading.Thread(target=hello, args=('Mark',), name='Steve-the-friendly-Thread', daemon=True)\n",
    "thread"
   ]
  },
  {
   "cell_type": "markdown",
   "metadata": {},
   "source": [
    "To start the thread we have to call its `start` method. This will actually create the new thread and run the target function."
   ]
  },
  {
   "cell_type": "code",
   "execution_count": 4,
   "metadata": {},
   "outputs": [
    {
     "name": "stdout",
     "output_type": "stream",
     "text": [
      "Oh hi Mark!\n",
      "Oh hi Mark!\n",
      "Oh hi Mark!\n"
     ]
    }
   ],
   "source": [
    "thread.start()\n",
    "time.sleep(2)"
   ]
  },
  {
   "cell_type": "markdown",
   "metadata": {},
   "source": [
    "We can do things on the main thread while the new thread is still running."
   ]
  },
  {
   "cell_type": "code",
   "execution_count": 5,
   "metadata": {},
   "outputs": [
    {
     "name": "stdout",
     "output_type": "stream",
     "text": [
      "Hello\n",
      "Oh hi Mark!\n",
      "Oh hi Mark!\n"
     ]
    }
   ],
   "source": [
    "print('Hello')\n",
    "time.sleep(2)"
   ]
  },
  {
   "cell_type": "markdown",
   "metadata": {},
   "source": [
    "When we want the current thread to wait until another thread has finished, we call the `join` function on the thread object we want to wait for."
   ]
  },
  {
   "cell_type": "code",
   "execution_count": 6,
   "metadata": {},
   "outputs": [
    {
     "name": "stdout",
     "output_type": "stream",
     "text": [
      "Oh hi Mark!\n",
      "Oh hi Mark!\n",
      "Oh hi Mark!\n",
      "Oh hi Mark!\n",
      "Oh hi Mark!\n",
      "Oh hi Mark!\n",
      "Oh hi Mark!\n",
      "Oh hi Mark!\n",
      "Oh hi Mark!\n",
      "Oh hi Mark!\n",
      "Oh hi Mark!\n",
      "Oh hi Mark!\n",
      "Oh hi Mark!\n",
      "Oh hi Mark!\n",
      "Oh hi Mark!\n",
      "Done\n"
     ]
    }
   ],
   "source": [
    "thread.join()\n",
    "print('Done')"
   ]
  },
  {
   "cell_type": "markdown",
   "metadata": {},
   "source": [
    "As an example, we have a function that just counts down from a high number."
   ]
  },
  {
   "cell_type": "code",
   "execution_count": 7,
   "metadata": {},
   "outputs": [],
   "source": [
    "def countdown(index, n=1_000_000):\n",
    "    while n > 0:\n",
    "        n -= 1\n",
    "    print(f'Countdown {index} finished')\n",
    "    \n",
    "countdown_times = {}"
   ]
  },
  {
   "cell_type": "markdown",
   "metadata": {},
   "source": [
    "Here we just execute the function 3 times in a row to see how long this takes with a single thread."
   ]
  },
  {
   "cell_type": "code",
   "execution_count": 8,
   "metadata": {},
   "outputs": [
    {
     "name": "stdout",
     "output_type": "stream",
     "text": [
      "Countdown 0 finished\n",
      "Countdown 1 finished\n",
      "Countdown 2 finished\n",
      "Countdown 3 finished\n",
      "Countdown 4 finished\n",
      "This took 0.2704489231109619 seconds\n"
     ]
    }
   ],
   "source": [
    "start = time.time()\n",
    "\n",
    "for i in range(5):\n",
    "    countdown(i)\n",
    "    \n",
    "countdown_times['sequential'] = time.time() - start\n",
    "print(f'This took {countdown_times[\"sequential\"]} seconds')"
   ]
  },
  {
   "cell_type": "markdown",
   "metadata": {},
   "source": [
    "Now we are creating three separate threads and run them concurrently to test if threads make counting down faster.\\\n",
    "As we can see the threads make counting down even slower. This is because we have some overhead when creating threads."
   ]
  },
  {
   "cell_type": "code",
   "execution_count": 9,
   "metadata": {},
   "outputs": [
    {
     "name": "stdout",
     "output_type": "stream",
     "text": [
      "Countdown 0 finished\n",
      "Countdown 3 finished\n",
      "Countdown 2 finished\n",
      "Countdown 1 finished\n",
      "Countdown 4 finished\n",
      "This took 0.3942840099334717 seconds\n"
     ]
    }
   ],
   "source": [
    "start = time.time()\n",
    "threads = []\n",
    "for i in range(5):\n",
    "    threads.append(threading.Thread(target=countdown, args=(i,)))\n",
    "    threads[-1].start()\n",
    "\n",
    "for t in threads:\n",
    "    t.join()\n",
    "\n",
    "countdown_times['multithreaded'] = time.time() - start\n",
    "print(f'This took {countdown_times[\"multithreaded\"]} seconds')"
   ]
  },
  {
   "cell_type": "markdown",
   "metadata": {},
   "source": [
    "Now let's try the same but with sleeping instead of counting down."
   ]
  },
  {
   "cell_type": "code",
   "execution_count": 10,
   "metadata": {},
   "outputs": [],
   "source": [
    "def sleep(index):\n",
    "    time.sleep(2)\n",
    "    print(f'Number {index} finished sleeping')\n",
    "    \n",
    "sleep_times = {}"
   ]
  },
  {
   "cell_type": "markdown",
   "metadata": {},
   "source": [
    "When sleeping 5 times for 2 seconds a single thread will take 10 seconds of course."
   ]
  },
  {
   "cell_type": "code",
   "execution_count": 11,
   "metadata": {},
   "outputs": [
    {
     "name": "stdout",
     "output_type": "stream",
     "text": [
      "Number 0 finished sleeping\n",
      "Number 1 finished sleeping\n",
      "Number 2 finished sleeping\n",
      "Number 3 finished sleeping\n",
      "Number 4 finished sleeping\n",
      "This took 10.011039733886719 seconds\n"
     ]
    }
   ],
   "source": [
    "start = time.time()\n",
    "for i in range(5):\n",
    "    sleep(i)\n",
    "    \n",
    "sleep_times['sequential'] = time.time() - start\n",
    "print(f'This took {sleep_times[\"sequential\"]} seconds')"
   ]
  },
  {
   "cell_type": "markdown",
   "metadata": {},
   "source": [
    "But this is our threads' time to shine, they are able to sleep in parallel. \"Sleeping\" does not mean that the CPU does nothing, the one \"sleeping\" is the thread itself, meaning it does not request the CPU to do anything. This allows multiple threads to sleep in parallel even with the GIL as a sleeping thread does not run any code."
   ]
  },
  {
   "cell_type": "code",
   "execution_count": 12,
   "metadata": {},
   "outputs": [
    {
     "name": "stdout",
     "output_type": "stream",
     "text": [
      "Number 0 finished sleeping\n",
      "Number 1 finished sleeping\n",
      "Number 2 finished sleeping\n",
      "Number 3 finished sleeping\n",
      "Number 4 finished sleeping\n",
      "This took 2.007768154144287 seconds\n"
     ]
    }
   ],
   "source": [
    "start = time.time()\n",
    "threads = []\n",
    "for i in range(5):\n",
    "    threads.append(threading.Thread(target=sleep, args=(i,)))\n",
    "    threads[-1].start()\n",
    "\n",
    "for t in threads:\n",
    "    t.join()\n",
    "    \n",
    "sleep_times['multithreaded'] = time.time() - start\n",
    "print(f'This took {sleep_times[\"multithreaded\"]} seconds')"
   ]
  },
  {
   "cell_type": "markdown",
   "metadata": {},
   "source": [
    "## Multiprocessing\n",
    "To really run Python code in parallel we can use the `multiprocessing` module. This allows us to create new Python processes with separate memory and own interpreters and therefore also a different interpreter lock. This is achieved by copying the memory of the current process to a new subprocess. Note however that the amount of memory with some additional overhead increased with the amount of subprocesses. Therefore it can be much more efficient because it can really leverage the multi-core performance of CPUs."
   ]
  },
  {
   "cell_type": "markdown",
   "metadata": {},
   "source": [
    "### Processes\n",
    "The `multiprocessing.Process` class has a very similar interface as the `threading.Thread` class but it will create subprocess instead of a thread. It is important to close these processes when you don't need them anymore because otherwise they will just keep running even after the main thread has stopped. If you don't close them you can either stop them manually in the task manager or by restarting the computer. It is better practice to use the `with` statement to create a subprocess because this will automatically clean up afterwards."
   ]
  },
  {
   "cell_type": "code",
   "execution_count": 13,
   "metadata": {},
   "outputs": [],
   "source": [
    "from multiprocessing import Process"
   ]
  },
  {
   "cell_type": "markdown",
   "metadata": {},
   "source": [
    "Let's have a look at the countdown example again."
   ]
  },
  {
   "cell_type": "code",
   "execution_count": 14,
   "metadata": {},
   "outputs": [
    {
     "name": "stdout",
     "output_type": "stream",
     "text": [
      "Countdown 2 finished\n",
      "Countdown 0 finished\n",
      "Countdown 1 finished\n",
      "Countdown 3 finished\n",
      "Countdown 4 finished\n",
      "This took 0.14782023429870605 seconds\n"
     ]
    }
   ],
   "source": [
    "start = time.time()\n",
    "processes = []\n",
    "for i in range(5):\n",
    "    processes.append(Process(target=countdown, args=(i,)))\n",
    "    processes[-1].start()\n",
    "\n",
    "for p in processes:\n",
    "    p.join()\n",
    "    # it is important to close these subprocesses after they finished, otherwise they will just keep running on the computer\n",
    "    p.close()\n",
    "    \n",
    "countdown_times['multiprocess'] = time.time() - start\n",
    "print(f'This took {countdown_times[\"multiprocess\"]} seconds')"
   ]
  },
  {
   "cell_type": "markdown",
   "metadata": {},
   "source": [
    "The multithreaded version actually was slower than the sequential one (due to overhead) but the multiprocessing approach was able to run about twice as fast as the sequential version.\n",
    "\n",
    "We have spawned five subprocesses though, why wasn't it five times faster? This is, again, due to overhead when creating the subprocesses and copying the memory over."
   ]
  },
  {
   "cell_type": "code",
   "execution_count": 15,
   "metadata": {},
   "outputs": [
    {
     "data": {
      "text/plain": [
       "{'sequential': 0.2704489231109619,\n",
       " 'multithreaded': 0.3942840099334717,\n",
       " 'multiprocess': 0.14782023429870605}"
      ]
     },
     "execution_count": 15,
     "metadata": {},
     "output_type": "execute_result"
    }
   ],
   "source": [
    "countdown_times"
   ]
  },
  {
   "cell_type": "markdown",
   "metadata": {},
   "source": [
    "Looking at the sleep example again, the multiprocessing approach is about as fast as the multithreading approach so the overhead in such a small toy example does not really differ but this might change when you have to copy over massive amounts of data to new subprocesses."
   ]
  },
  {
   "cell_type": "code",
   "execution_count": 16,
   "metadata": {},
   "outputs": [
    {
     "name": "stdout",
     "output_type": "stream",
     "text": [
      "Number 0 finished sleeping\n",
      "Number 1 finished sleeping\n",
      "Number 2 finished sleepingNumber 3 finished sleeping\n",
      "Number 4 finished sleeping\n",
      "\n",
      "This took 2.0276758670806885 seconds\n"
     ]
    }
   ],
   "source": [
    "start = time.time()\n",
    "processes = []\n",
    "for i in range(5):\n",
    "    processes.append(Process(target=sleep, args=(i,)))\n",
    "    processes[-1].start()\n",
    "\n",
    "for p in processes:\n",
    "    p.join()\n",
    "    p.close()\n",
    "    \n",
    "sleep_times['multiprocessing'] = time.time() - start\n",
    "print(f'This took {sleep_times[\"multiprocessing\"]} seconds')"
   ]
  },
  {
   "cell_type": "code",
   "execution_count": 17,
   "metadata": {},
   "outputs": [
    {
     "data": {
      "text/plain": [
       "{'sequential': 10.011039733886719,\n",
       " 'multithreaded': 2.007768154144287,\n",
       " 'multiprocessing': 2.0276758670806885}"
      ]
     },
     "execution_count": 17,
     "metadata": {},
     "output_type": "execute_result"
    }
   ],
   "source": [
    "sleep_times"
   ]
  },
  {
   "cell_type": "markdown",
   "metadata": {},
   "source": [
    "### Pools\n",
    "In addition to the `Process` class the multiprocessing module also offers a `Pool` class which can be used to spawn multiple subprocesses that can be reused. Since processes work on the actual CPU cores, you will not gain any further performance by creating more subprocesses than you have CPU cores. You can specify how many subprocesses the pool should create using the `processes` parameter. By default this will be set to `multiprocessing.cpu_count()` which returns the number of CPU cores (in some cases it is not the number of physical cores but the number of [CPU threads](https://en.wikipedia.org/wiki/Hyper-threading) but for the sake of simplicity I will refer to these as cores) available in your system.\n",
    "\n",
    "`Pool` objects support asynchronous and blocking calls to apply and map. Asynchronous means that it doesn't block the execution of the invoking thread, it just calls a callback function as soon as it is done. Blocking on the other hand means that it will stop the current process and wait for the pool to finish. It works more like the traditional apply and map functions from Python lists."
   ]
  },
  {
   "cell_type": "code",
   "execution_count": 18,
   "metadata": {},
   "outputs": [
    {
     "name": "stdout",
     "output_type": "stream",
     "text": [
      "Number of CPU cores in this computer: 8\n"
     ]
    }
   ],
   "source": [
    "from multiprocessing import Pool, cpu_count\n",
    "print(f'Number of CPU cores in this computer: {cpu_count()}')"
   ]
  },
  {
   "cell_type": "markdown",
   "metadata": {},
   "source": [
    "Let's see if we can make this really inefficient way of summing up the values in an n-dimensional array faster using a multiprocessing pool."
   ]
  },
  {
   "cell_type": "code",
   "execution_count": 19,
   "metadata": {},
   "outputs": [
    {
     "data": {
      "text/plain": [
       "(1000, 100, 100)"
      ]
     },
     "execution_count": 19,
     "metadata": {},
     "output_type": "execute_result"
    }
   ],
   "source": [
    "def expensive(x):\n",
    "    result = 0\n",
    "    for i, j in np.ndindex(x.shape):\n",
    "        result += x[i,j]\n",
    "    return result\n",
    "\n",
    "# generate some numbers to map the function on\n",
    "nums = np.arange(10_000_000).reshape(-1, 100, 100)\n",
    "nums.shape"
   ]
  },
  {
   "cell_type": "markdown",
   "metadata": {},
   "source": [
    "First of all, how long does it take to run this sequentially."
   ]
  },
  {
   "cell_type": "code",
   "execution_count": 20,
   "metadata": {},
   "outputs": [
    {
     "name": "stdout",
     "output_type": "stream",
     "text": [
      "This took 8.012200117111206 seconds\n"
     ]
    }
   ],
   "source": [
    "start = time.time()\n",
    "result = list(map(expensive, nums))\n",
    "print(f'This took {time.time() - start} seconds')"
   ]
  },
  {
   "cell_type": "markdown",
   "metadata": {},
   "source": [
    "Now let's see how much faster this gets when we use a `Pool`."
   ]
  },
  {
   "cell_type": "code",
   "execution_count": 21,
   "metadata": {},
   "outputs": [
    {
     "name": "stdout",
     "output_type": "stream",
     "text": [
      "This took 2.7576920986175537 seconds\n"
     ]
    }
   ],
   "source": [
    "start = time.time()\n",
    "with Pool() as p:\n",
    "    result = p.map(expensive, nums)\n",
    "print(f'This took {time.time() - start} seconds')"
   ]
  },
  {
   "cell_type": "markdown",
   "metadata": {},
   "source": [
    "## Higher-level multithreading and multiprocessing\n",
    "The joblib library offers a high-level interface to both multithreading and multiprocessing using multiple backends for parallelizing for-loops. By default, it uses the so called \"loky\" backend which is a very efficient implementation of multiprocessing in Python. To parallelize for loops we need two things from the library: `Parallel` and `delayed`. The `Parallel` class is a lot like the pool from the multiprocessing library but it supports different backends which allow you to use multithreading or multiprocessing. `delayed` is a decorator which can be used to mark the function that should be executed in parallel."
   ]
  },
  {
   "cell_type": "code",
   "execution_count": 6,
   "metadata": {},
   "outputs": [],
   "source": [
    "from joblib import Parallel, delayed\n",
    "from tqdm.notebook import tqdm"
   ]
  },
  {
   "cell_type": "markdown",
   "metadata": {},
   "source": [
    "The syntax might be a little weird at first but actually it is pretty much like a list comprehension. Print statements inside the parallelized function will only work if `n_jobs` is set to 1 (no parallelization). This allows you to debug when something does not work as expected."
   ]
  },
  {
   "cell_type": "code",
   "execution_count": 23,
   "metadata": {},
   "outputs": [
    {
     "data": {
      "application/vnd.jupyter.widget-view+json": {
       "model_id": "42547e9a047f47f1aafc7d3162fa1f44",
       "version_major": 2,
       "version_minor": 0
      },
      "text/plain": [
       "HBox(children=(FloatProgress(value=0.0, max=10.0), HTML(value='')))"
      ]
     },
     "metadata": {},
     "output_type": "display_data"
    },
    {
     "name": "stdout",
     "output_type": "stream",
     "text": [
      "\n"
     ]
    },
    {
     "data": {
      "text/plain": [
       "[0, 1, 4, 9, 16, 25, 36, 49, 64, 81]"
      ]
     },
     "execution_count": 23,
     "metadata": {},
     "output_type": "execute_result"
    }
   ],
   "source": [
    "@delayed\n",
    "def square(x):\n",
    "    print(f'Squaring {x}...')\n",
    "    return x ** 2\n",
    "\n",
    "result = Parallel(n_jobs=3)(square(x) for x in tqdm(range(10)))\n",
    "result"
   ]
  },
  {
   "cell_type": "code",
   "execution_count": 24,
   "metadata": {},
   "outputs": [
    {
     "data": {
      "text/plain": [
       "(1000, 100, 100)"
      ]
     },
     "execution_count": 24,
     "metadata": {},
     "output_type": "execute_result"
    }
   ],
   "source": [
    "def eigvals(mat):\n",
    "    return np.linalg.eigvals(mat)\n",
    "\n",
    "@delayed\n",
    "def eigvals_delayed(mat):\n",
    "    return np.linalg.eigvals(mat)\n",
    "\n",
    "nums.shape"
   ]
  },
  {
   "cell_type": "markdown",
   "metadata": {},
   "source": [
    "Let's see how long the multiprocessing module takes to compute the eigenvalues of many matrices."
   ]
  },
  {
   "cell_type": "code",
   "execution_count": 26,
   "metadata": {},
   "outputs": [
    {
     "name": "stdout",
     "output_type": "stream",
     "text": [
      "This took 5.343011856079102 seconds\n"
     ]
    }
   ],
   "source": [
    "start = time.time()\n",
    "\n",
    "with Pool() as p:\n",
    "    result = p.map(eigvals, nums)\n",
    "    \n",
    "print(f'This took {time.time() - start} seconds')"
   ]
  },
  {
   "cell_type": "markdown",
   "metadata": {},
   "source": [
    "And in comparison to that joblib using the loky backend."
   ]
  },
  {
   "cell_type": "code",
   "execution_count": 27,
   "metadata": {},
   "outputs": [
    {
     "data": {
      "application/vnd.jupyter.widget-view+json": {
       "model_id": "fa43f3ef9182477a8ba9af9aa50688d7",
       "version_major": 2,
       "version_minor": 0
      },
      "text/plain": [
       "HBox(children=(FloatProgress(value=0.0, max=1000.0), HTML(value='')))"
      ]
     },
     "metadata": {},
     "output_type": "display_data"
    },
    {
     "name": "stdout",
     "output_type": "stream",
     "text": [
      "\n",
      "This took 1.9565415382385254 seconds\n"
     ]
    }
   ],
   "source": [
    "start = time.time()\n",
    "\n",
    "result = Parallel(n_jobs=-1)(eigvals_delayed(x) for x in tqdm(nums))\n",
    "\n",
    "print(f'This took {time.time() - start} seconds')"
   ]
  },
  {
   "cell_type": "markdown",
   "metadata": {},
   "source": [
    "And now the same call but using the threading backend. This should be the slowest as Python's threads don't really run in parallel."
   ]
  },
  {
   "cell_type": "code",
   "execution_count": 28,
   "metadata": {},
   "outputs": [
    {
     "data": {
      "application/vnd.jupyter.widget-view+json": {
       "model_id": "241babf0d9354659b8c3771bdd62707e",
       "version_major": 2,
       "version_minor": 0
      },
      "text/plain": [
       "HBox(children=(FloatProgress(value=0.0, max=1000.0), HTML(value='')))"
      ]
     },
     "metadata": {},
     "output_type": "display_data"
    },
    {
     "name": "stdout",
     "output_type": "stream",
     "text": [
      "\n",
      "This took 16.307597637176514 seconds\n"
     ]
    }
   ],
   "source": [
    "start = time.time()\n",
    "\n",
    "result = Parallel(n_jobs=-1, backend='threading')(eigvals_delayed(x) for x in tqdm(nums))\n",
    "\n",
    "print(f'This took {time.time() - start} seconds')"
   ]
  },
  {
   "cell_type": "markdown",
   "metadata": {},
   "source": [
    "## Serialization\n",
    "How do the `multiprocessing` and `joblib` modules actually copy the memory? This is done efficiently using serialization or in other words translating an object into a format that is easy to store away in a file or transmit. In Python this can be done using the `pickle` module, which takes a Python object and gives you a binary representation of this object which can be used to save it to a file or copy it to another process."
   ]
  },
  {
   "cell_type": "code",
   "execution_count": 29,
   "metadata": {},
   "outputs": [],
   "source": [
    "import pickle"
   ]
  },
  {
   "cell_type": "code",
   "execution_count": 30,
   "metadata": {},
   "outputs": [
    {
     "data": {
      "text/plain": [
       "(Cowy is a fluffly animal with 4 legs and is able to run 15 km/h,\n",
       " Spidery is a not so fluffy animal with 8 legs and is able to run 0.2 km/h,\n",
       " Monkey is a fluffly animal with 2 legs and is able to run 13 km/h)"
      ]
     },
     "execution_count": 30,
     "metadata": {},
     "output_type": "execute_result"
    }
   ],
   "source": [
    "class Animal:\n",
    "    def __init__(self, name, n_legs, fluffy, running_speed):\n",
    "        self.name = name\n",
    "        self.n_legs = n_legs\n",
    "        self.fluffy = fluffy\n",
    "        self.running_speed = running_speed\n",
    "        \n",
    "    def __repr__(self):\n",
    "        return f'{self.name} is a {\"fluffly\" if self.fluffy else \"not so fluffy\"} animal with {self.n_legs} legs and is able to run {self.running_speed} km/h'\n",
    "    \n",
    "a1 = Animal('Cowy', 4, True, 15)\n",
    "a2 = Animal('Spidery', 8, False, 0.2)\n",
    "a3 = Animal('Monkey', 2, True, 13)\n",
    "a1, a2, a3"
   ]
  },
  {
   "cell_type": "markdown",
   "metadata": {},
   "source": [
    "`pickle.dumps` returns a bytes object with binary data. We could use this to pass it to another process, save it to a file or transmit it over the internet."
   ]
  },
  {
   "cell_type": "code",
   "execution_count": 31,
   "metadata": {},
   "outputs": [
    {
     "data": {
      "text/plain": [
       "b'\\x80\\x03c__main__\\nAnimal\\nq\\x00)\\x81q\\x01}q\\x02(X\\x04\\x00\\x00\\x00nameq\\x03X\\x04\\x00\\x00\\x00Cowyq\\x04X\\x06\\x00\\x00\\x00n_legsq\\x05K\\x04X\\x06\\x00\\x00\\x00fluffyq\\x06\\x88X\\r\\x00\\x00\\x00running_speedq\\x07K\\x0fub.'"
      ]
     },
     "execution_count": 31,
     "metadata": {},
     "output_type": "execute_result"
    }
   ],
   "source": [
    "a1_bin = pickle.dumps(a1)\n",
    "a1_bin"
   ]
  },
  {
   "cell_type": "markdown",
   "metadata": {},
   "source": [
    "To restore the Python object from such the binary representation, we can use the `pickle.loads` function."
   ]
  },
  {
   "cell_type": "code",
   "execution_count": 32,
   "metadata": {},
   "outputs": [
    {
     "name": "stdout",
     "output_type": "stream",
     "text": [
      "<class '__main__.Animal'>\n"
     ]
    },
    {
     "data": {
      "text/plain": [
       "Cowy is a fluffly animal with 4 legs and is able to run 15 km/h"
      ]
     },
     "execution_count": 32,
     "metadata": {},
     "output_type": "execute_result"
    }
   ],
   "source": [
    "restored = pickle.loads(a1_bin)\n",
    "print(type(restored))\n",
    "restored"
   ]
  },
  {
   "cell_type": "markdown",
   "metadata": {},
   "source": [
    "We can also directly save it to a file using `pickle.dump` and load from a file using `pickle.load`."
   ]
  },
  {
   "cell_type": "code",
   "execution_count": 33,
   "metadata": {},
   "outputs": [],
   "source": [
    "with open('animals.pkl', 'wb') as file:\n",
    "    pickle.dump([a1, a2, a3], file)"
   ]
  },
  {
   "cell_type": "code",
   "execution_count": 34,
   "metadata": {},
   "outputs": [
    {
     "data": {
      "text/plain": [
       "[Cowy is a fluffly animal with 4 legs and is able to run 15 km/h,\n",
       " Spidery is a not so fluffy animal with 8 legs and is able to run 0.2 km/h,\n",
       " Monkey is a fluffly animal with 2 legs and is able to run 13 km/h]"
      ]
     },
     "execution_count": 34,
     "metadata": {},
     "output_type": "execute_result"
    }
   ],
   "source": [
    "with open('animals.pkl', 'rb') as file:\n",
    "    animals = pickle.load(file)\n",
    "animals"
   ]
  },
  {
   "cell_type": "markdown",
   "metadata": {},
   "source": [
    "## Compiling Python code"
   ]
  },
  {
   "cell_type": "markdown",
   "metadata": {},
   "source": [
    "### Numba\n",
    "Numba is an open source just-in-time (JIT) compiler that translates a subset of Python and NumPy code into fast machine code. Numba-compiled numerical algorithms in Python can approach the speeds of C. Instead of having to re-write or even re-compile your code, you just have to add one decorator to the function."
   ]
  },
  {
   "cell_type": "code",
   "execution_count": 1,
   "metadata": {
    "collapsed": false,
    "jupyter": {
     "outputs_hidden": false
    },
    "pycharm": {
     "name": "#%%\n"
    }
   },
   "outputs": [
    {
     "name": "stdout",
     "output_type": "stream",
     "text": [
      "[[  9.  10.  11.  12.  13.  14.  15.  16.  17.  18.]\n",
      " [ 19.  20.  21.  22.  23.  24.  25.  26.  27.  28.]\n",
      " [ 29.  30.  31.  32.  33.  34.  35.  36.  37.  38.]\n",
      " [ 39.  40.  41.  42.  43.  44.  45.  46.  47.  48.]\n",
      " [ 49.  50.  51.  52.  53.  54.  55.  56.  57.  58.]\n",
      " [ 59.  60.  61.  62.  63.  64.  65.  66.  67.  68.]\n",
      " [ 69.  70.  71.  72.  73.  74.  75.  76.  77.  78.]\n",
      " [ 79.  80.  81.  82.  83.  84.  85.  86.  87.  88.]\n",
      " [ 89.  90.  91.  92.  93.  94.  95.  96.  97.  98.]\n",
      " [ 99. 100. 101. 102. 103. 104. 105. 106. 107. 108.]]\n"
     ]
    }
   ],
   "source": [
    "import numpy as np\n",
    "\n",
    "def go_slow(a):\n",
    "    trace = 0\n",
    "    for i in range(a.shape[0]):   \n",
    "        trace += np.tanh(a[i, i]) \n",
    "    return a + trace\n",
    "\n",
    "print(go_slow(np.arange(100).reshape(10, 10)))"
   ]
  },
  {
   "cell_type": "code",
   "execution_count": 2,
   "metadata": {},
   "outputs": [],
   "source": [
    "from numba import jit\n",
    "\n",
    "@jit(nopython=True)\n",
    "def go_fast(a):\n",
    "    trace = 0\n",
    "    for i in range(a.shape[0]):\n",
    "        trace += np.tanh(a[i, i])\n",
    "    return a + trace"
   ]
  },
  {
   "cell_type": "code",
   "execution_count": 3,
   "metadata": {},
   "outputs": [
    {
     "name": "stdout",
     "output_type": "stream",
     "text": [
      "CPU times: user 341 ms, sys: 12.5 ms, total: 354 ms\n",
      "Wall time: 354 ms\n"
     ]
    }
   ],
   "source": [
    "x = np.arange(10_000).reshape(100, 100)\n",
    "%time result = go_fast(x)"
   ]
  },
  {
   "cell_type": "code",
   "execution_count": 4,
   "metadata": {
    "collapsed": false,
    "jupyter": {
     "outputs_hidden": false
    },
    "pycharm": {
     "name": "#%%\n"
    }
   },
   "outputs": [
    {
     "name": "stdout",
     "output_type": "stream",
     "text": [
      "417 µs ± 16 µs per loop (mean ± std. dev. of 7 runs, 1000 loops each)\n"
     ]
    }
   ],
   "source": [
    "%%timeit\n",
    "go_slow(x)"
   ]
  },
  {
   "cell_type": "code",
   "execution_count": 5,
   "metadata": {
    "collapsed": false,
    "jupyter": {
     "outputs_hidden": false
    },
    "pycharm": {
     "name": "#%%\n"
    }
   },
   "outputs": [
    {
     "name": "stdout",
     "output_type": "stream",
     "text": [
      "9.54 µs ± 86 ns per loop (mean ± std. dev. of 7 runs, 100000 loops each)\n"
     ]
    }
   ],
   "source": [
    "%%timeit\n",
    "go_fast(x)"
   ]
  },
  {
   "cell_type": "raw",
   "metadata": {},
   "source": [
    "<see the notebooks in the numba-directory>"
   ]
  },
  {
   "cell_type": "markdown",
   "metadata": {},
   "source": [
    "### Jax\n",
    "Jax is a quite new library that is still under early development but it also offers a JIT compiler for Python code and on top of that is able to automatically differentiate your functions. For that it uses [Automatic Differentiation](https://en.wikipedia.org/wiki/Automatic_differentiation) (AD), which computes the actual mathematically correct derivative of the function. It does not rely on numerical estimates and can therefore be a useful tool for gradient-based optimization.\n",
    "\n",
    "The library has its own NumPy implementation which is necessary for the automatic differentiation to work. It can be imported with ```import jax.numpy as jnp```."
   ]
  },
  {
   "cell_type": "code",
   "execution_count": 7,
   "metadata": {},
   "outputs": [
    {
     "name": "stderr",
     "output_type": "stream",
     "text": [
      "/home/philipp/conda/envs/scientific_programming/lib/python3.7/site-packages/jax/lib/xla_bridge.py:125: UserWarning: No GPU/TPU found, falling back to CPU.\n",
      "  warnings.warn('No GPU/TPU found, falling back to CPU.')\n"
     ]
    }
   ],
   "source": [
    "import jax.numpy as jnp\n",
    "from jax import jit as jit_jax\n",
    "\n",
    "@jit_jax\n",
    "def go_jax(a):\n",
    "    trace = 0\n",
    "    for i in range(a.shape[0]):   \n",
    "        trace += jnp.tanh(a[i, i]) \n",
    "    return a + trace\n",
    "\n",
    "x_jax = jnp.arange(10_000).reshape(100, 100)"
   ]
  },
  {
   "cell_type": "markdown",
   "metadata": {},
   "source": [
    "As you can see, it is not quite as fast as Numba's JIT compiler but this might change in the future when the library is further developed. Also, Numba is not able to compute derivatives of Python functions, which makes Jax useful in that regard."
   ]
  },
  {
   "cell_type": "code",
   "execution_count": 8,
   "metadata": {},
   "outputs": [
    {
     "name": "stdout",
     "output_type": "stream",
     "text": [
      "199 µs ± 68.5 µs per loop (mean ± std. dev. of 7 runs, 1 loop each)\n"
     ]
    }
   ],
   "source": [
    "%%timeit\n",
    "go_jax(x_jax)"
   ]
  },
  {
   "cell_type": "markdown",
   "metadata": {},
   "source": [
    "To see how Jax' automatic differentiation works, let's look at the example of iteratively fitting a linear regression model to some data using the mean squared error. For this purpose we create some random linear data with a slope of 3 and an intercept of 1."
   ]
  },
  {
   "cell_type": "code",
   "execution_count": 21,
   "metadata": {},
   "outputs": [
    {
     "data": {
      "image/png": "[encoded data removed]",
      "text/plain": [
       "<Figure size 576x396 with 1 Axes>"
      ]
     },
     "metadata": {},
     "output_type": "display_data"
    }
   ],
   "source": [
    "from matplotlib import pyplot as plt\n",
    "plt.style.use('seaborn')\n",
    "\n",
    "xs = np.linspace(-3, 10, 50)\n",
    "ys = 3 * xs + 1 + np.random.normal(0, 3, size=len(xs))\n",
    "\n",
    "plt.plot(xs, ys, 'o');"
   ]
  },
  {
   "cell_type": "markdown",
   "metadata": {},
   "source": [
    "First of all we define the mean squared error function, taking the slope and intercept of the model, as well as the x- and y-values of our data."
   ]
  },
  {
   "cell_type": "code",
   "execution_count": 22,
   "metadata": {},
   "outputs": [],
   "source": [
    "@jit_jax\n",
    "def mse(slope, intercept, xs, ys):\n",
    "    return jnp.mean((xs * slope + intercept - ys) ** 2)"
   ]
  },
  {
   "cell_type": "markdown",
   "metadata": {},
   "source": [
    "We get the gradient function by passing `mse` to the `grad` function and specifying which partial derivatives we want (`argnums` parameter with indices of positional arguments)."
   ]
  },
  {
   "cell_type": "code",
   "execution_count": 23,
   "metadata": {},
   "outputs": [],
   "source": [
    "from jax import grad\n",
    "\n",
    "mse_grad = grad(mse, argnums=(0, 1))"
   ]
  },
  {
   "cell_type": "markdown",
   "metadata": {},
   "source": [
    "To optimize our slope and intercept we can use their partial derivatives which directly come from the `mse_grad` function."
   ]
  },
  {
   "cell_type": "code",
   "execution_count": 24,
   "metadata": {},
   "outputs": [
    {
     "data": {
      "application/vnd.jupyter.widget-view+json": {
       "model_id": "0440b3dfe023420082c76c3ffd34c648",
       "version_major": 2,
       "version_minor": 0
      },
      "text/plain": [
       "HBox(children=(FloatProgress(value=0.0, max=500.0), HTML(value='')))"
      ]
     },
     "metadata": {},
     "output_type": "display_data"
    },
    {
     "name": "stdout",
     "output_type": "stream",
     "text": [
      "\n",
      "Mean Squared Error: 8.933629\n",
      "Fitted slope: 3.021932\n",
      "Fitted intercept: 0.26965776\n"
     ]
    },
    {
     "data": {
      "image/png": "[encoded data removed]",
      "text/plain": [
       "<Figure size 576x396 with 1 Axes>"
      ]
     },
     "metadata": {},
     "output_type": "display_data"
    }
   ],
   "source": [
    "# initialize model\n",
    "slope = 1.0\n",
    "intercept = 0.0\n",
    "\n",
    "# optimize using the gradient\n",
    "for step in tqdm(range(500)):\n",
    "    ds, di = mse_grad(slope, intercept, xs, ys)\n",
    "    slope -= 0.001 * ds\n",
    "    intercept -= 0.001 * di\n",
    "    \n",
    "print('Mean Squared Error:', mse(slope, intercept, xs, ys))\n",
    "print('Fitted slope:', slope)\n",
    "print('Fitted intercept:', intercept)\n",
    "\n",
    "# show the result\n",
    "plt.plot(xs, ys, 'o')\n",
    "plt.plot(xs, xs * slope + intercept);"
   ]
  },
  {
   "cell_type": "markdown",
   "metadata": {},
   "source": [
    "## Cython\n",
    "One way to make your program run faster: compile to a faster language.\n",
    "[https://cython.org/](https://cython.org/)\n",
    "\n",
    "### About Cython\n",
    "\n",
    "Cython is an optimising static compiler for both the Python programming language and the extended Cython programming language (based on Pyrex). It makes writing C extensions for Python as easy as Python itself.\n",
    "\n",
    "Cython gives you the combined power of Python and C to let you\n",
    "\n",
    "* write Python code that calls back and forth from and to C or C++ code natively at any point.\n",
    "* easily tune readable Python code into plain C performance by adding static type declarations, also in Python syntax.\n",
    "* use combined source code level debugging to find bugs in your Python, Cython and C code.\n",
    "* interact efficiently with large data sets, e.g. using multi-dimensional NumPy arrays.\n",
    "* quickly build your applications within the large, mature and widely used CPython ecosystem.\n",
    "* integrate natively with existing code and data from legacy, low-level or high-performance libraries and applications.\n",
    "\n",
    "The Cython language is a superset of the Python language that additionally supports calling C functions and declaring C types on variables and class attributes. This allows the compiler to generate very efficient C code from Cython code. The C code is generated once and then compiles with all major C/C++ compilers in CPython 2.6, 2.7 (2.4+ with Cython 0.20.x) as well as 3.3 and all later versions. We regularly run integration tests against all supported CPython versions and their latest in-development branches to make sure that the generated code stays widely compatible and well adapted to each version. PyPy support is work in progress (on both sides) and is considered mostly usable since Cython 0.17. The latest PyPy version is always recommended here.\n",
    "\n",
    "All of this makes Cython the ideal language for wrapping external C libraries, embedding CPython into existing applications, and for fast C modules that speed up the execution of Python code. \n",
    "\n",
    "The fundamental nature of Cython can be summed up as follows: Cython is Python with C data types.\n",
    "\n",
    "Cython is Python: Almost any piece of Python code is also valid Cython code. (There are a few Limitations, but this approximation will serve for now.) The Cython compiler will convert it into C code which makes equivalent calls to the Python/C API.\n",
    "\n",
    "But Cython is much more than that, because parameters and variables can be declared to have C data types. Code which manipulates Python values and C values can be freely intermixed, with conversions occurring automatically wherever possible. Reference count maintenance and error checking of Python operations is also automatic, and the full power of Python’s exception handling facilities, including the try-except and try-finally statements, is available to you – even in the midst of manipulating C data.\n",
    "\n",
    "For an introduction on how to use Cython, I recommend [https://cython.readthedocs.io/en/latest/src/tutorial/cython_tutorial.html](https://cython.readthedocs.io/en/latest/src/tutorial/cython_tutorial.html)."
   ]
  },
  {
   "cell_type": "raw",
   "metadata": {},
   "source": [
    "<see the examples in the cython-directory>"
   ]
  }
 ],
 "metadata": {
  "kernelspec": {
   "display_name": "Python 3",
   "language": "python",
   "name": "python3"
  },
  "language_info": {
   "codemirror_mode": {
    "name": "ipython",
    "version": 3
   },
   "file_extension": ".py",
   "mimetype": "text/x-python",
   "name": "python",
   "nbconvert_exporter": "python",
   "pygments_lexer": "ipython3",
   "version": "3.7.7"
  },
  "toc-autonumbering": true
 },
 "nbformat": 4,
 "nbformat_minor": 4
}
